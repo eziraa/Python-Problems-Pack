{
 "cells": [
  {
   "cell_type": "code",
   "execution_count": null,
   "metadata": {
    "collapsed": true
   },
   "outputs": [],
   "source": [
    "# Write a Python program to get the frequency of the elements in a list.\n",
    "# input\n",
    "# my_list = [10,10,10,10,20,20,20,20,40,40,50,50,30]\n",
    "# outout\n",
    "# {10: 4, 20: 4, 40: 2, 50: 2, 30: 1}\n"
   ]
  },
  {
   "cell_type": "code",
   "execution_count": 2,
   "metadata": {},
   "outputs": [
    {
     "data": {
      "text/plain": [
       "{10: 4, 20: 4, 40: 2, 50: 2, 30: 1}"
      ]
     },
     "execution_count": 2,
     "metadata": {},
     "output_type": "execute_result"
    }
   ],
   "source": [
    "def get_frequency(item_list):\n",
    "\n",
    "    dict = {}\n",
    "    for i in item_list:\n",
    "        if i in dict:\n",
    "            dict[i] += 1\n",
    "        else:\n",
    "            dict[i] = 1\n",
    "    return dict\n",
    "\n",
    "\n",
    "get_frequency([10, 10, 10, 10, 20, 20, 20, 20, 40, 40, 50, 50, 30])"
   ]
  }
 ],
 "metadata": {
  "kernelspec": {
   "display_name": "Python 3",
   "language": "python",
   "name": "python3"
  },
  "language_info": {
   "codemirror_mode": {
    "name": "ipython",
    "version": 3
   },
   "file_extension": ".py",
   "mimetype": "text/x-python",
   "name": "python",
   "nbconvert_exporter": "python",
   "pygments_lexer": "ipython3",
   "version": "3.12.2"
  }
 },
 "nbformat": 4,
 "nbformat_minor": 2
}
