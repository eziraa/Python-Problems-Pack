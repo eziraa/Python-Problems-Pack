{
 "cells": [
  {
   "cell_type": "code",
   "execution_count": null,
   "metadata": {
    "collapsed": true
   },
   "outputs": [],
   "source": [
    "# ---------------------------------------------------------------\n",
    "# python best courses https://courses.tanpham.org/\n",
    "# ---------------------------------------------------------------\n",
    "# Write a Python program that accepts a string and calculate the number of digits and letters\n",
    "# Sample Data : \"Python 3.2\"\n",
    "# Expected Output :\n",
    "# Letters 6 \n",
    "# Digits 2\n",
    "\n"
   ]
  },
  {
   "cell_type": "code",
   "execution_count": 2,
   "metadata": {},
   "outputs": [
    {
     "name": "stdout",
     "output_type": "stream",
     "text": [
      "Total digits: 4\n",
      "Total letters: 6\n"
     ]
    }
   ],
   "source": [
    "input_str = input(\"Enter the string you wish to count the number of digits and the number of letters\")\n",
    "\n",
    "total_str = 0\n",
    "total_digists = 0\n",
    "for string in input_str:\n",
    "    if string.isdigit():\n",
    "        total_digists += 1\n",
    "    elif string.isalpha():\n",
    "        total_str += 1\n",
    "    else:\n",
    "        continue\n",
    "\n",
    "print(f\"Total digits: {total_digists}\" )\n",
    "print(f\"Total letters: {total_str}\" )"
   ]
  }
 ],
 "metadata": {
  "kernelspec": {
   "display_name": "Python 3",
   "language": "python",
   "name": "python3"
  },
  "language_info": {
   "codemirror_mode": {
    "name": "ipython",
    "version": 3
   },
   "file_extension": ".py",
   "mimetype": "text/x-python",
   "name": "python",
   "nbconvert_exporter": "python",
   "pygments_lexer": "ipython3",
   "version": "3.12.2"
  }
 },
 "nbformat": 4,
 "nbformat_minor": 2
}
