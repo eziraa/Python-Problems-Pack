{
 "cells": [
  {
   "cell_type": "code",
   "execution_count": 1,
   "metadata": {},
   "outputs": [
    {
     "name": "stdout",
     "output_type": "stream",
     "text": [
      "The triangle is valid\n",
      "The triangle is valid but degenerated\n",
      "The triangle is invalid\n"
     ]
    }
   ],
   "source": [
    "# ---------------------------------------------------------------\n",
    "# python best courses https://courses.tanpham.org/\n",
    "# ---------------------------------------------------------------\n",
    "# Write a Python program to check a triangle is valid or not\n",
    "def check_triangle(l1, l2, l3):\n",
    "    if (l1 > l2 + l3 or l2 > l1 + l3 or l3 > l1 + l2):\n",
    "        print(\"The triangle is invalid\")\n",
    "    elif (l1 == l2 + l3 or l2 == l1 + l3 or l3 == l1 + l2):\n",
    "        print(\"The triangle is valid but degenerated\")\n",
    "    else:\n",
    "        print(\"The triangle is valid\")\n",
    "\n",
    "# TESTING\n",
    "\n",
    "\n",
    "check_triangle(34, 54, 34)\n",
    "check_triangle(45, 21, 24)\n",
    "check_triangle(4, 54, 34)\n"
   ]
  }
 ],
 "metadata": {
  "kernelspec": {
   "display_name": "Python 3",
   "language": "python",
   "name": "python3"
  },
  "language_info": {
   "codemirror_mode": {
    "name": "ipython",
    "version": 3
   },
   "file_extension": ".py",
   "mimetype": "text/x-python",
   "name": "python",
   "nbconvert_exporter": "python",
   "pygments_lexer": "ipython3",
   "version": "3.12.2"
  }
 },
 "nbformat": 4,
 "nbformat_minor": 2
}
