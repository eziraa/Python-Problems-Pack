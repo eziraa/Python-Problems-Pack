{
 "cells": [
  {
   "cell_type": "code",
   "execution_count": 1,
   "metadata": {},
   "outputs": [
    {
     "name": "stdout",
     "output_type": "stream",
     "text": [
      "name  =>  Ezira\n",
      "age  =>  23\n",
      "Department  =>  Software Engineering\n"
     ]
    }
   ],
   "source": [
    "# Write a Python program to iterate over dictionaries using for loops.\n",
    "\n",
    "def iterateOverDict(dict):\n",
    "    for key, value in dict.items():\n",
    "        print(key, \" => \", value)\n",
    "\n",
    "# Test the solution\n",
    "iterateOverDict({\n",
    "    \"name\": \"Ezira\",\n",
    "    \"age\": 23,\n",
    "    \"Department\": \"Software Engineering\",\n",
    "})\n",
    "\t\n"
   ]
  }
 ],
 "metadata": {
  "kernelspec": {
   "display_name": "Python 3",
   "language": "python",
   "name": "python3"
  },
  "language_info": {
   "codemirror_mode": {
    "name": "ipython",
    "version": 3
   },
   "file_extension": ".py",
   "mimetype": "text/x-python",
   "name": "python",
   "nbconvert_exporter": "python",
   "pygments_lexer": "ipython3",
   "version": "3.12.2"
  }
 },
 "nbformat": 4,
 "nbformat_minor": 2
}
