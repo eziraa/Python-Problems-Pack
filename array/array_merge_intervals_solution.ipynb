{
 "cells": [
  {
   "cell_type": "code",
   "execution_count": null,
   "metadata": {},
   "outputs": [],
   "source": [
    "# ---------------------------------------------------------------\n",
    "# python best courses https://courses.tanpham.org/\n",
    "# ---------------------------------------------------------------\n",
    "# Given a collection of intervals which are already sorted by start number, merge all overlapping intervals.\n",
    "# For example,\n",
    "# Given [[1,3],[2,6],[5,10],[11,16],[15,18],[19,22]],\n",
    "# return [[1, 10], [11, 18], [19, 22]]"
   ]
  },
  {
   "cell_type": "code",
   "execution_count": 14,
   "metadata": {},
   "outputs": [
    {
     "data": {
      "text/plain": [
       "[[1, 10], [11, 18], [19, 22]]"
      ]
     },
     "execution_count": 14,
     "metadata": {},
     "output_type": "execute_result"
    }
   ],
   "source": [
    "def merge_overlaps(numbers_coll):\n",
    "    numbers_coll.sort(key=lambda x: x[0])  # Ensure the list is sorted\n",
    "    i = 0\n",
    "    while i < len(numbers_coll) - 1:\n",
    "        if numbers_coll[i][1] >= numbers_coll[i+1][0]:\n",
    "            numbers_coll[i][1] = max(numbers_coll[i][1], numbers_coll[i+1][1])\n",
    "            numbers_coll.pop(i+1)\n",
    "        else:\n",
    "            i += 1\n",
    "    return numbers_coll\n",
    "\n",
    "\n",
    "merge_overlaps([[1, 3], [2, 6], [5, 10], [11, 16], [15, 18], [19, 22]])\n",
    "\n"
   ]
  }
 ],
 "metadata": {
  "kernelspec": {
   "display_name": "Python 3",
   "language": "python",
   "name": "python3"
  },
  "language_info": {
   "codemirror_mode": {
    "name": "ipython",
    "version": 3
   },
   "file_extension": ".py",
   "mimetype": "text/x-python",
   "name": "python",
   "nbconvert_exporter": "python",
   "pygments_lexer": "ipython3",
   "version": "3.12.2"
  }
 },
 "nbformat": 4,
 "nbformat_minor": 2
}
