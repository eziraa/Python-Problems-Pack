{
 "cells": [
  {
   "cell_type": "code",
   "execution_count": 2,
   "metadata": {},
   "outputs": [
    {
     "data": {
      "text/plain": [
       "3"
      ]
     },
     "execution_count": 2,
     "metadata": {},
     "output_type": "execute_result"
    }
   ],
   "source": [
    "# ---------------------------------------------------------------\n",
    "# python best courses https://courses.tanpham.org/\n",
    "# ---------------------------------------------------------------\n",
    "# Challenge\n",
    "# \n",
    "# Given a string, find the length of the longest substring\n",
    "# without repeating characters.\n",
    "\n",
    "# Examples:\n",
    "\n",
    "# Given \"abcabcbb\", the answer is \"abc\", which the length is 3.\n",
    "# Given \"bbbbb\", the answer is \"b\", with the length of 1.\n",
    "# Given \"pwwkew\", the answer is \"wke\", with the length of 3.\n",
    "# ---------------------------------------------------------------\n",
    "\n",
    "     \n",
    "    "
   ]
  },
  {
   "cell_type": "code",
   "execution_count": 1,
   "metadata": {},
   "outputs": [
    {
     "data": {
      "text/plain": [
       "3"
      ]
     },
     "execution_count": 1,
     "metadata": {},
     "output_type": "execute_result"
    }
   ],
   "source": [
    "def length_of_longest_substring(s):\n",
    "    unique_string = []\n",
    "    for item in s:\n",
    "        if item not in unique_string:\n",
    "            unique_string.append(item)\n",
    "    return len(unique_string)\n",
    "\n",
    "\n",
    "length_of_longest_substring(\"abcabcbb\")  # abc"
   ]
  },
  {
   "cell_type": "code",
   "execution_count": null,
   "metadata": {},
   "outputs": [],
   "source": []
  }
 ],
 "metadata": {
  "kernelspec": {
   "display_name": "Python 3 (ipykernel)",
   "language": "python",
   "name": "python3"
  },
  "language_info": {
   "codemirror_mode": {
    "name": "ipython",
    "version": 3
   },
   "file_extension": ".py",
   "mimetype": "text/x-python",
   "name": "python",
   "nbconvert_exporter": "python",
   "pygments_lexer": "ipython3",
   "version": "3.12.2"
  }
 },
 "nbformat": 4,
 "nbformat_minor": 4
}
