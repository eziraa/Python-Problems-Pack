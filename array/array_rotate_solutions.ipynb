{
 "cells": [
  {
   "cell_type": "code",
   "execution_count": null,
   "metadata": {},
   "outputs": [],
   "source": [
    "# Rotate an array of n elements to the right by k steps.\n",
    "# For example, with n = 7 and k = 3,\n",
    "# the array [1,2,3,4,5,6,7] is rotated to [5,6,7,1,2,3,4].\n",
    "# Note:\n",
    "# Try to come up as many solutions as you can,\n",
    "# there are at least 3 different ways to solve this problem."
   ]
  },
  {
   "cell_type": "code",
   "execution_count": null,
   "metadata": {},
   "outputs": [],
   "source": [
    "def rotate_array(numbers, step):\n",
    "    garbage_collection = [numbers[i]\n",
    "                          for i in range(len(numbers) - step, len(numbers))][::-1]\n",
    "    for i in range(len(numbers)):\n",
    "        index = i + step\n",
    "        if index < len(numbers):\n",
    "            numbers[index] = numbers[i]\n",
    "        else:\n",
    "            numbers[index % len(numbers)] = garbage_collection.pop()\n",
    "\n",
    "\n",
    "rotate_array([0, 1, 2, 3, 4], 2)"
   ]
  }
 ],
 "metadata": {
  "language_info": {
   "name": "python"
  }
 },
 "nbformat": 4,
 "nbformat_minor": 2
}
