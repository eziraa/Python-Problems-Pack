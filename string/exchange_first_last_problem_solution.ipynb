{
 "cells": [
  {
   "cell_type": "code",
   "execution_count": null,
   "metadata": {},
   "outputs": [],
   "source": [
    "#  Write a Python program to change a given string to a new string where the first and last chars have been exchanged\n"
   ]
  },
  {
   "cell_type": "code",
   "execution_count": null,
   "metadata": {},
   "outputs": [],
   "source": [
    "def change_string(str1):\n",
    "    str1 = list(str1)\n",
    "    str1[0], str1[len(str1)-1] = str1[len(str1)-1], str1[0] \n",
    "    str1 = ''.join(str1)\n",
    "    return str1\n",
    "   \n",
    "\n",
    "print(change_string('abcd'))\n",
    "print(change_string('12345'))"
   ]
  }
 ],
 "metadata": {
  "language_info": {
   "name": "python"
  }
 },
 "nbformat": 4,
 "nbformat_minor": 2
}
