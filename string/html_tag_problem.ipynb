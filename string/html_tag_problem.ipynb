{
 "cells": [
  {
   "cell_type": "code",
   "execution_count": null,
   "metadata": {},
   "outputs": [],
   "source": [
    "# Write a Python function to create the HTML string with tags around the word(s).\n",
    "# Sample function and result : \n",
    "# add_tags('i', 'Python') -> '<i>Python</i>'\n",
    "# add_tags('b', 'Python Tutorial') -> '<b>Python Tutorial </b>'\n",
    "\n"
   ]
  },
  {
   "cell_type": "code",
   "execution_count": null,
   "metadata": {},
   "outputs": [],
   "source": [
    "\n",
    "def add_tags(tag, word):\n",
    "    return f\"<{tag}> {word} </{tag}>\"\n",
    "\n",
    "print(add_tags('i', 'Python'))\n",
    "\n",
    "print(add_tags('b', 'Python Tutorial'))"
   ]
  }
 ],
 "metadata": {
  "language_info": {
   "name": "python"
  }
 },
 "nbformat": 4,
 "nbformat_minor": 2
}
