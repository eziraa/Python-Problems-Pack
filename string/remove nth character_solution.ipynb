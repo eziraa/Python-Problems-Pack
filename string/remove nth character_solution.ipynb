{
 "cells": [
  {
   "cell_type": "code",
   "execution_count": 1,
   "metadata": {},
   "outputs": [
    {
     "name": "stdout",
     "output_type": "stream",
     "text": [
      "Pthon\n",
      "ython\n",
      "Pyton\n",
      "Pytho\n"
     ]
    }
   ],
   "source": [
    "# Write a Python program to remove the nth index character from a nonempty string\n",
    "\n",
    "def remove_nth_char(string, index):\n",
    "    for i in range(len(string)):\n",
    "        if i == index:\n",
    "            return string.replace(string[i], \"\")\n",
    "\n",
    "    return string\n",
    "\n",
    "\n",
    "print(remove_nth_char('Python', 1))\n",
    "print(remove_nth_char('Python', 0))\n",
    "print(remove_nth_char('Python', 3))\n",
    "print(remove_nth_char('Python', 5))"
   ]
  }
 ],
 "metadata": {
  "kernelspec": {
   "display_name": "Python 3",
   "language": "python",
   "name": "python3"
  },
  "language_info": {
   "codemirror_mode": {
    "name": "ipython",
    "version": 3
   },
   "file_extension": ".py",
   "mimetype": "text/x-python",
   "name": "python",
   "nbconvert_exporter": "python",
   "pygments_lexer": "ipython3",
   "version": "3.12.2"
  }
 },
 "nbformat": 4,
 "nbformat_minor": 2
}
