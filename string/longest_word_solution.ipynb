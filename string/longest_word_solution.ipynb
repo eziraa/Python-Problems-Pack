{
 "cells": [
  {
   "cell_type": "code",
   "execution_count": null,
   "metadata": {},
   "outputs": [],
   "source": [
    "# Write a Python function that takes a list of words and returns the length of the longest one\n",
    "\n",
    "def longest_word(words_list):\n",
    "    longest = \"\"\n",
    "    for word in words_list:\n",
    "        longest = word if len(word) > len (longest) else longest"
   ]
  }
 ],
 "metadata": {
  "language_info": {
   "name": "python"
  }
 },
 "nbformat": 4,
 "nbformat_minor": 2
}
